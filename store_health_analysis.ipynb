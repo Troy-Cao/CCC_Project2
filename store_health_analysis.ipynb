{
 "cells": [
  {
   "cell_type": "code",
   "execution_count": 53,
   "metadata": {},
   "outputs": [
    {
     "name": "stdout",
     "output_type": "stream",
     "text": [
      "(606, 10)\n"
     ]
    }
   ],
   "source": [
    "import pandas as pd\n",
    "\n",
    "\n",
    "store_data = pd.read_csv(\"data_store.csv\")\n",
    "print(store_data.shape)"
   ]
  },
  {
   "cell_type": "code",
   "execution_count": 54,
   "metadata": {},
   "outputs": [
    {
     "data": {
      "text/html": [
       "<div>\n",
       "<style scoped>\n",
       "    .dataframe tbody tr th:only-of-type {\n",
       "        vertical-align: middle;\n",
       "    }\n",
       "\n",
       "    .dataframe tbody tr th {\n",
       "        vertical-align: top;\n",
       "    }\n",
       "\n",
       "    .dataframe thead th {\n",
       "        text-align: right;\n",
       "    }\n",
       "</style>\n",
       "<table border=\"1\" class=\"dataframe\">\n",
       "  <thead>\n",
       "    <tr style=\"text-align: right;\">\n",
       "      <th></th>\n",
       "      <th>wholesale_trade</th>\n",
       "      <th>mining</th>\n",
       "      <th>manufacturing</th>\n",
       "      <th>transport_postal_and</th>\n",
       "      <th>clue_small_area</th>\n",
       "      <th>education_and_training</th>\n",
       "      <th>accommodation_and_food</th>\n",
       "      <th>construction</th>\n",
       "      <th>health_care_and_social</th>\n",
       "      <th>block_id</th>\n",
       "    </tr>\n",
       "  </thead>\n",
       "  <tbody>\n",
       "    <tr>\n",
       "      <th>0</th>\n",
       "      <td>0</td>\n",
       "      <td>0</td>\n",
       "      <td>0</td>\n",
       "      <td>0</td>\n",
       "      <td>East Melbourne</td>\n",
       "      <td>0</td>\n",
       "      <td>0</td>\n",
       "      <td>0</td>\n",
       "      <td>0</td>\n",
       "      <td>662</td>\n",
       "    </tr>\n",
       "    <tr>\n",
       "      <th>1</th>\n",
       "      <td>0</td>\n",
       "      <td>0</td>\n",
       "      <td>0</td>\n",
       "      <td>0</td>\n",
       "      <td>Docklands</td>\n",
       "      <td>0</td>\n",
       "      <td>1</td>\n",
       "      <td>0</td>\n",
       "      <td>0</td>\n",
       "      <td>1112</td>\n",
       "    </tr>\n",
       "    <tr>\n",
       "      <th>2</th>\n",
       "      <td>0</td>\n",
       "      <td>0</td>\n",
       "      <td>0</td>\n",
       "      <td>3</td>\n",
       "      <td>Melbourne (CBD)</td>\n",
       "      <td>0</td>\n",
       "      <td>15</td>\n",
       "      <td>0</td>\n",
       "      <td>0</td>\n",
       "      <td>6</td>\n",
       "    </tr>\n",
       "    <tr>\n",
       "      <th>3</th>\n",
       "      <td>0</td>\n",
       "      <td>0</td>\n",
       "      <td>0</td>\n",
       "      <td>0</td>\n",
       "      <td>Parkville</td>\n",
       "      <td>0</td>\n",
       "      <td>0</td>\n",
       "      <td>0</td>\n",
       "      <td>1</td>\n",
       "      <td>927</td>\n",
       "    </tr>\n",
       "    <tr>\n",
       "      <th>4</th>\n",
       "      <td>0</td>\n",
       "      <td>0</td>\n",
       "      <td>0</td>\n",
       "      <td>0</td>\n",
       "      <td>Parkville</td>\n",
       "      <td>0</td>\n",
       "      <td>0</td>\n",
       "      <td>0</td>\n",
       "      <td>0</td>\n",
       "      <td>926</td>\n",
       "    </tr>\n",
       "  </tbody>\n",
       "</table>\n",
       "</div>"
      ],
      "text/plain": [
       "   wholesale_trade   mining   manufacturing   transport_postal_and  \\\n",
       "0                0        0               0                      0   \n",
       "1                0        0               0                      0   \n",
       "2                0        0               0                      3   \n",
       "3                0        0               0                      0   \n",
       "4                0        0               0                      0   \n",
       "\n",
       "   clue_small_area   education_and_training   accommodation_and_food  \\\n",
       "0   East Melbourne                        0                        0   \n",
       "1        Docklands                        0                        1   \n",
       "2  Melbourne (CBD)                        0                       15   \n",
       "3        Parkville                        0                        0   \n",
       "4        Parkville                        0                        0   \n",
       "\n",
       "    construction   health_care_and_social   block_id  \n",
       "0              0                        0        662  \n",
       "1              0                        0       1112  \n",
       "2              0                        0          6  \n",
       "3              0                        1        927  \n",
       "4              0                        0        926  "
      ]
     },
     "execution_count": 54,
     "metadata": {},
     "output_type": "execute_result"
    }
   ],
   "source": [
    "store_data.head(5)"
   ]
  },
  {
   "cell_type": "code",
   "execution_count": 58,
   "metadata": {},
   "outputs": [],
   "source": [
    "store_data = store_data.drop([' block_id'], axis=1)"
   ]
  },
  {
   "cell_type": "code",
   "execution_count": 59,
   "metadata": {},
   "outputs": [
    {
     "data": {
      "text/html": [
       "<div>\n",
       "<style scoped>\n",
       "    .dataframe tbody tr th:only-of-type {\n",
       "        vertical-align: middle;\n",
       "    }\n",
       "\n",
       "    .dataframe tbody tr th {\n",
       "        vertical-align: top;\n",
       "    }\n",
       "\n",
       "    .dataframe thead th {\n",
       "        text-align: right;\n",
       "    }\n",
       "</style>\n",
       "<table border=\"1\" class=\"dataframe\">\n",
       "  <thead>\n",
       "    <tr style=\"text-align: right;\">\n",
       "      <th></th>\n",
       "      <th>wholesale_trade</th>\n",
       "      <th>mining</th>\n",
       "      <th>manufacturing</th>\n",
       "      <th>transport_postal_and</th>\n",
       "      <th>clue_small_area</th>\n",
       "      <th>education_and_training</th>\n",
       "      <th>accommodation_and_food</th>\n",
       "      <th>construction</th>\n",
       "      <th>health_care_and_social</th>\n",
       "    </tr>\n",
       "  </thead>\n",
       "  <tbody>\n",
       "    <tr>\n",
       "      <th>0</th>\n",
       "      <td>0</td>\n",
       "      <td>0</td>\n",
       "      <td>0</td>\n",
       "      <td>0</td>\n",
       "      <td>East Melbourne</td>\n",
       "      <td>0</td>\n",
       "      <td>0</td>\n",
       "      <td>0</td>\n",
       "      <td>0</td>\n",
       "    </tr>\n",
       "    <tr>\n",
       "      <th>1</th>\n",
       "      <td>0</td>\n",
       "      <td>0</td>\n",
       "      <td>0</td>\n",
       "      <td>0</td>\n",
       "      <td>Docklands</td>\n",
       "      <td>0</td>\n",
       "      <td>1</td>\n",
       "      <td>0</td>\n",
       "      <td>0</td>\n",
       "    </tr>\n",
       "    <tr>\n",
       "      <th>2</th>\n",
       "      <td>0</td>\n",
       "      <td>0</td>\n",
       "      <td>0</td>\n",
       "      <td>3</td>\n",
       "      <td>Melbourne (CBD)</td>\n",
       "      <td>0</td>\n",
       "      <td>15</td>\n",
       "      <td>0</td>\n",
       "      <td>0</td>\n",
       "    </tr>\n",
       "    <tr>\n",
       "      <th>3</th>\n",
       "      <td>0</td>\n",
       "      <td>0</td>\n",
       "      <td>0</td>\n",
       "      <td>0</td>\n",
       "      <td>Parkville</td>\n",
       "      <td>0</td>\n",
       "      <td>0</td>\n",
       "      <td>0</td>\n",
       "      <td>1</td>\n",
       "    </tr>\n",
       "    <tr>\n",
       "      <th>4</th>\n",
       "      <td>0</td>\n",
       "      <td>0</td>\n",
       "      <td>0</td>\n",
       "      <td>0</td>\n",
       "      <td>Parkville</td>\n",
       "      <td>0</td>\n",
       "      <td>0</td>\n",
       "      <td>0</td>\n",
       "      <td>0</td>\n",
       "    </tr>\n",
       "  </tbody>\n",
       "</table>\n",
       "</div>"
      ],
      "text/plain": [
       "   wholesale_trade   mining   manufacturing   transport_postal_and  \\\n",
       "0                0        0               0                      0   \n",
       "1                0        0               0                      0   \n",
       "2                0        0               0                      3   \n",
       "3                0        0               0                      0   \n",
       "4                0        0               0                      0   \n",
       "\n",
       "   clue_small_area   education_and_training   accommodation_and_food  \\\n",
       "0   East Melbourne                        0                        0   \n",
       "1        Docklands                        0                        1   \n",
       "2  Melbourne (CBD)                        0                       15   \n",
       "3        Parkville                        0                        0   \n",
       "4        Parkville                        0                        0   \n",
       "\n",
       "    construction   health_care_and_social  \n",
       "0              0                        0  \n",
       "1              0                        0  \n",
       "2              0                        0  \n",
       "3              0                        1  \n",
       "4              0                        0  "
      ]
     },
     "execution_count": 59,
     "metadata": {},
     "output_type": "execute_result"
    }
   ],
   "source": [
    "store_data.head(5)"
   ]
  },
  {
   "cell_type": "code",
   "execution_count": 60,
   "metadata": {},
   "outputs": [],
   "source": [
    "store_data = store_data.set_index([' clue_small_area'], drop=True)"
   ]
  },
  {
   "cell_type": "code",
   "execution_count": 62,
   "metadata": {},
   "outputs": [],
   "source": [
    "indexes = store_data.index.unique()"
   ]
  },
  {
   "cell_type": "code",
   "execution_count": 63,
   "metadata": {},
   "outputs": [
    {
     "name": "stdout",
     "output_type": "stream",
     "text": [
      "Index(['East Melbourne', 'Docklands', 'Melbourne (CBD)', 'Parkville',\n",
      "       'West Melbourne (Residential)', 'North Melbourne',\n",
      "       'West Melbourne (Industrial)', 'Southbank', 'Melbourne (Remainder)',\n",
      "       'South Yarra', 'Carlton', 'Kensington', 'Port Melbourne'],\n",
      "      dtype='object', name=' clue_small_area')\n"
     ]
    }
   ],
   "source": [
    "print(indexes)"
   ]
  },
  {
   "cell_type": "code",
   "execution_count": 65,
   "metadata": {},
   "outputs": [],
   "source": [
    "park_data = store_data.loc['Parkville'].sum()"
   ]
  },
  {
   "cell_type": "code",
   "execution_count": 66,
   "metadata": {},
   "outputs": [],
   "source": [
    "park_data['total'] = park_data.sum(axis=0)"
   ]
  },
  {
   "cell_type": "code",
   "execution_count": 67,
   "metadata": {},
   "outputs": [
    {
     "data": {
      "text/plain": [
       "146"
      ]
     },
     "execution_count": 67,
     "metadata": {},
     "output_type": "execute_result"
    }
   ],
   "source": [
    "park_data['total']"
   ]
  },
  {
   "cell_type": "code",
   "execution_count": 72,
   "metadata": {},
   "outputs": [
    {
     "data": {
      "text/plain": [
       "wholesale_trade              0\n",
       " mining                      0\n",
       " manufacturing               3\n",
       " transport_postal_and        6\n",
       " education_and_training     15\n",
       " accommodation_and_food     51\n",
       " construction                1\n",
       " health_care_and_social     70\n",
       "total                      146\n",
       "dtype: int64"
      ]
     },
     "execution_count": 72,
     "metadata": {},
     "output_type": "execute_result"
    }
   ],
   "source": [
    "park_data"
   ]
  },
  {
   "cell_type": "code",
   "execution_count": 71,
   "metadata": {},
   "outputs": [
    {
     "data": {
      "text/plain": [
       "3"
      ]
     },
     "execution_count": 71,
     "metadata": {},
     "output_type": "execute_result"
    }
   ],
   "source": [
    "park_data[' manufacturing']"
   ]
  },
  {
   "cell_type": "code",
   "execution_count": 74,
   "metadata": {},
   "outputs": [
    {
     "data": {
      "text/plain": [
       "(9,)"
      ]
     },
     "execution_count": 74,
     "metadata": {},
     "output_type": "execute_result"
    }
   ],
   "source": [
    "park_data.shape\n"
   ]
  },
  {
   "cell_type": "code",
   "execution_count": 27,
   "metadata": {},
   "outputs": [
    {
     "data": {
      "text/plain": [
       "wholesale_trade                                                            0\n",
       " mining                                                                    0\n",
       " manufacturing                                                             3\n",
       " transport_postal_and                                                      6\n",
       " clue_small_area           ParkvilleParkvilleParkvilleParkvilleParkvilleP...\n",
       " education_and_training                                                   15\n",
       " accommodation_and_food                                                   51\n",
       " construction                                                              1\n",
       " health_care_and_social                                                   70\n",
       " block_id                                                              29209\n",
       "dtype: object"
      ]
     },
     "execution_count": 27,
     "metadata": {},
     "output_type": "execute_result"
    }
   ],
   "source": [
    "store_data.loc['Parkville'].sum()"
   ]
  },
  {
   "cell_type": "code",
   "execution_count": 76,
   "metadata": {},
   "outputs": [
    {
     "name": "stdout",
     "output_type": "stream",
     "text": [
      "0.0\n",
      "0.0\n",
      "0.02054794520547945\n",
      "0.0410958904109589\n",
      "0.10273972602739725\n",
      "0.3493150684931507\n",
      "0.00684931506849315\n",
      "0.4794520547945205\n",
      "1.0\n"
     ]
    }
   ],
   "source": [
    "for item in park_data:\n",
    "    item = item / park_data['total']\n",
    "    print(item)"
   ]
  },
  {
   "cell_type": "code",
   "execution_count": 77,
   "metadata": {},
   "outputs": [
    {
     "name": "stdout",
     "output_type": "stream",
     "text": [
      "wholesale_trade\n",
      " mining\n",
      " manufacturing\n",
      " transport_postal_and\n",
      " education_and_training\n",
      " accommodation_and_food\n",
      " construction\n",
      " health_care_and_social\n",
      "total\n"
     ]
    }
   ],
   "source": [
    "for index in park_data.index:\n",
    "    print(index)"
   ]
  },
  {
   "cell_type": "code",
   "execution_count": 79,
   "metadata": {},
   "outputs": [],
   "source": [
    "dis_store_health_dict = {}\n",
    "for dis in store_data.index.unique():\n",
    "    dis_data = store_data.loc[dis].sum()\n",
    "    dis_data['total'] = dis_data.sum(axis=0)\n",
    "    num = (dis_data[' accommodation_and_food'] + dis_data[' health_care_and_social']) / dis_data['total']\n",
    "    dis_store_health_dict[dis] = num"
   ]
  },
  {
   "cell_type": "code",
   "execution_count": 80,
   "metadata": {},
   "outputs": [
    {
     "data": {
      "text/plain": [
       "{'East Melbourne': 0.8881987577639752,\n",
       " 'Docklands': 0.6666666666666666,\n",
       " 'Melbourne (CBD)': 0.6517140773158279,\n",
       " 'Parkville': 0.8287671232876712,\n",
       " 'West Melbourne (Residential)': 0.3736842105263158,\n",
       " 'North Melbourne': 0.45495495495495497,\n",
       " 'West Melbourne (Industrial)': 0.026490066225165563,\n",
       " 'Southbank': 0.6410256410256411,\n",
       " 'Melbourne (Remainder)': 0.7142857142857143,\n",
       " 'South Yarra': 0.5757575757575758,\n",
       " 'Carlton': 0.6679389312977099,\n",
       " 'Kensington': 0.30612244897959184,\n",
       " 'Port Melbourne': 0.04477611940298507}"
      ]
     },
     "execution_count": 80,
     "metadata": {},
     "output_type": "execute_result"
    }
   ],
   "source": [
    "dis_store_health_dict"
   ]
  },
  {
   "cell_type": "code",
   "execution_count": 81,
   "metadata": {},
   "outputs": [],
   "source": [
    "import json\n",
    "dis_dict = {\"CARLTON NORTH\": 0.6679, \"CARLTON\":0.6679, \"DOCKLANDS\":0.6667,\n",
    "       \"EAST MELBORNE\":0.8881, \"FLEMINGTON\":0.3101, \"KENSINGTON\":0.3061, \"MELBOURNE\": 0.7143, \n",
    "        \"NORTH MELBOURNE\": 0.4550, \"PARKVILLE\":0.8287, \"PORT MELBOURNE\":0.0448, \"SOUTH WHARF\":0.7543, \n",
    "       \"SOUTH YARRA\":0.5758, \"SOUTH BANK\":0.6410, \"WEST MELBOURNE\":0.2137}\n",
    "\n",
    "with open('store_health_dis.json', 'w') as f:\n",
    "    json.dump(dis_dict, f)"
   ]
  },
  {
   "cell_type": "code",
   "execution_count": null,
   "metadata": {},
   "outputs": [],
   "source": []
  }
 ],
 "metadata": {
  "kernelspec": {
   "display_name": "Python 3",
   "language": "python",
   "name": "python3"
  },
  "language_info": {
   "codemirror_mode": {
    "name": "ipython",
    "version": 3
   },
   "file_extension": ".py",
   "mimetype": "text/x-python",
   "name": "python",
   "nbconvert_exporter": "python",
   "pygments_lexer": "ipython3",
   "version": "3.7.1"
  }
 },
 "nbformat": 4,
 "nbformat_minor": 2
}
